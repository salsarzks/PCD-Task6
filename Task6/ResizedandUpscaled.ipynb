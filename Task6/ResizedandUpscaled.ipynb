{
  "nbformat": 4,
  "nbformat_minor": 0,
  "metadata": {
    "colab": {
      "provenance": []
    },
    "kernelspec": {
      "name": "python3",
      "display_name": "Python 3"
    },
    "language_info": {
      "name": "python"
    }
  },
  "cells": [
    {
      "cell_type": "code",
      "execution_count": 1,
      "metadata": {
        "id": "Ugxnf_flGtWG"
      },
      "outputs": [],
      "source": [
        "from PIL import Image\n",
        "\n",
        "# Load the 4K image\n",
        "img_path = 'rizing.jpeg'  # Ensure this file is in the same directory\n",
        "img = Image.open(img_path)\n",
        "\n",
        "# Resize the image to 128x128\n",
        "img_resized = img.resize((128, 128))\n",
        "\n",
        "# Save the resized image\n",
        "img_resized.save('resized_image_128x128.jpeg')\n",
        "\n",
        "# Display the resized image\n",
        "img_resized.show()\n",
        "\n",
        "# Load the 128x128 image\n",
        "img_path_128 = 'resized_image_128x128.jpeg'\n",
        "img_128 = Image.open(img_path_128)\n",
        "\n",
        "# Upscale the image to 4K (3840x2160)\n",
        "img_upscaled = img_128.resize((3840, 2160))\n",
        "\n",
        "# Save the upscaled image\n",
        "img_upscaled.save('upscaled_image_4K.jpeg')\n",
        "\n",
        "# Display the upscaled image\n",
        "img_upscaled.show()"
      ]
    }
  ]
}